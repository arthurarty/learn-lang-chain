{
 "cells": [
  {
   "cell_type": "code",
   "execution_count": 2,
   "metadata": {},
   "outputs": [
    {
     "data": {
      "text/plain": [
       "AIMessage(content='Hei, jeg er bra takk.', additional_kwargs={}, response_metadata={'model': 'llama3.2', 'created_at': '2025-01-27T21:59:07.456965Z', 'done': True, 'done_reason': 'stop', 'total_duration': 2743921041, 'load_duration': 829179083, 'prompt_eval_count': 38, 'prompt_eval_duration': 1390000000, 'eval_count': 10, 'eval_duration': 179000000, 'message': Message(role='assistant', content='', images=None, tool_calls=None)}, id='run-24d29f38-24a6-4e8a-92c3-d25b5bf3f0dd-0', usage_metadata={'input_tokens': 38, 'output_tokens': 10, 'total_tokens': 48})"
      ]
     },
     "execution_count": 2,
     "metadata": {},
     "output_type": "execute_result"
    }
   ],
   "source": [
    "from langchain_ollama import ChatOllama\n",
    "from langchain_core.messages import HumanMessage, SystemMessage\n",
    "\n",
    "\n",
    "model = ChatOllama(\n",
    "    model=\"llama3.2\",\n",
    "    temperature=0,\n",
    "    # other params...\n",
    ")\n",
    "\n",
    "\n",
    "messages = [\n",
    "    SystemMessage(\"Translate the following from English into Norwegian\"),\n",
    "    HumanMessage(\"Hello, how are you?\"),\n",
    "]\n",
    "\n",
    "model.invoke(messages)\n"
   ]
  },
  {
   "cell_type": "code",
   "execution_count": 5,
   "metadata": {},
   "outputs": [
    {
     "name": "stdout",
     "output_type": "stream",
     "text": [
      "Dette er din broder.\n"
     ]
    }
   ],
   "source": [
    "from langchain_core.prompts import ChatPromptTemplate\n",
    "from langchain_ollama import ChatOllama\n",
    "\n",
    "model = ChatOllama(\n",
    "    model=\"llama3.2\",\n",
    "    temperature=0,\n",
    ")\n",
    "\n",
    "system_template = \"Translate the following from English into {language}\"\n",
    "\n",
    "prompt_template = ChatPromptTemplate.from_messages(\n",
    "    [\n",
    "        (\"system\", system_template), (\"user\", \"{text}\")\n",
    "    ]\n",
    ")\n",
    "prompt = prompt_template.invoke(\n",
    "    {\n",
    "        \"language\": \"Norwegian\", \"text\": \"this is my brother\"\n",
    "    }\n",
    ")\n",
    "response = model.invoke(prompt)\n",
    "print(response.content)"
   ]
  },
  {
   "cell_type": "code",
   "execution_count": null,
   "metadata": {},
   "outputs": [],
   "source": []
  }
 ],
 "metadata": {
  "kernelspec": {
   "display_name": "venv",
   "language": "python",
   "name": "python3"
  },
  "language_info": {
   "codemirror_mode": {
    "name": "ipython",
    "version": 3
   },
   "file_extension": ".py",
   "mimetype": "text/x-python",
   "name": "python",
   "nbconvert_exporter": "python",
   "pygments_lexer": "ipython3",
   "version": "3.10.11"
  }
 },
 "nbformat": 4,
 "nbformat_minor": 4
}
